{
 "cells": [
  {
   "cell_type": "code",
   "execution_count": 5,
   "metadata": {},
   "outputs": [],
   "source": [
    "from langchain import OpenAI, PromptTemplate, LLMChain\n",
    "from langchain.text_splitter import CharacterTextSplitter\n",
    "from langchain.chains.mapreduce import MapReduceChain\n",
    "from langchain.prompts import PromptTemplate\n",
    "from langchain.chains.summarize import load_summarize_chain\n",
    "import pandas as pd\n",
    "from langchain import HuggingFaceHub\n",
    "from langchain.docstore.document import Document\n",
    "from config import *\n",
    "import os"
   ]
  },
  {
   "cell_type": "code",
   "execution_count": 6,
   "metadata": {},
   "outputs": [],
   "source": [
    "llm = OpenAI(temperature=0, openai_api_key=OPENAI_API_KEY)\n",
    "chain = load_summarize_chain(llm, chain_type=\"map_reduce\")"
   ]
  },
  {
   "cell_type": "code",
   "execution_count": 7,
   "metadata": {},
   "outputs": [],
   "source": [
    "prompt_template = \"\"\"Write in bullet points the main points of the article below:\n",
    "\n",
    "                        {text}\n",
    "                        \"\"\""
   ]
  },
  {
   "cell_type": "code",
   "execution_count": 8,
   "metadata": {},
   "outputs": [],
   "source": [
    "def summarize_text(file):\n",
    "    # Prepare the input data\n",
    "    text_splitter = CharacterTextSplitter()\n",
    "    with open(file) as f:\n",
    "        industry_news = f.read()\n",
    "    texts = text_splitter.split_text(industry_news)\n",
    "    docs = [Document(page_content=t) for t in texts]\n",
    "    # Run the summarization chain on the documents\n",
    "    PROMPT = PromptTemplate(template=prompt_template, input_variables=[\"text\"])\n",
    "    chain = load_summarize_chain(llm, chain_type=\"stuff\", prompt=PROMPT)\n",
    "    summary = chain.run(docs)\n",
    "\n",
    "    return summary"
   ]
  },
  {
   "cell_type": "code",
   "execution_count": 9,
   "metadata": {},
   "outputs": [
    {
     "ename": "ValidationError",
     "evalue": "1 validation error for PromptTemplate\n__root__\n  Invalid prompt schema; check for mismatched or missing input parameters. 'article' (type=value_error)",
     "output_type": "error",
     "traceback": [
      "\u001b[1;31m---------------------------------------------------------------------------\u001b[0m",
      "\u001b[1;31mValidationError\u001b[0m                           Traceback (most recent call last)",
      "Cell \u001b[1;32mIn[9], line 2\u001b[0m\n\u001b[0;32m      1\u001b[0m \u001b[39mfor\u001b[39;00m article \u001b[39min\u001b[39;00m os\u001b[39m.\u001b[39mlistdir(\u001b[39m'\u001b[39m\u001b[39marticles\u001b[39m\u001b[39m'\u001b[39m):\n\u001b[1;32m----> 2\u001b[0m         summary \u001b[39m=\u001b[39m summarize_text(\u001b[39m'\u001b[39;49m\u001b[39marticles/\u001b[39;49m\u001b[39m'\u001b[39;49m \u001b[39m+\u001b[39;49m article)\n\u001b[0;32m      3\u001b[0m         \u001b[39mwith\u001b[39;00m \u001b[39mopen\u001b[39m(\u001b[39m'\u001b[39m\u001b[39msummaries/\u001b[39m\u001b[39m'\u001b[39m \u001b[39m+\u001b[39m article, \u001b[39m'\u001b[39m\u001b[39mw\u001b[39m\u001b[39m'\u001b[39m) \u001b[39mas\u001b[39;00m f:\n\u001b[0;32m      4\u001b[0m             f\u001b[39m.\u001b[39mwrite(summary[\u001b[39m0\u001b[39m]\u001b[39m.\u001b[39mpage_content)\n",
      "Cell \u001b[1;32mIn[8], line 9\u001b[0m, in \u001b[0;36msummarize_text\u001b[1;34m(file)\u001b[0m\n\u001b[0;32m      7\u001b[0m docs \u001b[39m=\u001b[39m [Document(page_content\u001b[39m=\u001b[39mt) \u001b[39mfor\u001b[39;00m t \u001b[39min\u001b[39;00m texts]\n\u001b[0;32m      8\u001b[0m \u001b[39m# Run the summarization chain on the documents\u001b[39;00m\n\u001b[1;32m----> 9\u001b[0m PROMPT \u001b[39m=\u001b[39m PromptTemplate(template\u001b[39m=\u001b[39;49mprompt_template, input_variables\u001b[39m=\u001b[39;49m[\u001b[39m\"\u001b[39;49m\u001b[39mtext\u001b[39;49m\u001b[39m\"\u001b[39;49m])\n\u001b[0;32m     10\u001b[0m chain \u001b[39m=\u001b[39m load_summarize_chain(llm, chain_type\u001b[39m=\u001b[39m\u001b[39m\"\u001b[39m\u001b[39mstuff\u001b[39m\u001b[39m\"\u001b[39m, prompt\u001b[39m=\u001b[39mPROMPT)\n\u001b[0;32m     11\u001b[0m summary \u001b[39m=\u001b[39m chain\u001b[39m.\u001b[39mrun(docs)\n",
      "File \u001b[1;32mc:\\Users\\tjfis\\anaconda3\\envs\\news\\Lib\\site-packages\\langchain\\load\\serializable.py:74\u001b[0m, in \u001b[0;36mSerializable.__init__\u001b[1;34m(self, **kwargs)\u001b[0m\n\u001b[0;32m     73\u001b[0m \u001b[39mdef\u001b[39;00m \u001b[39m__init__\u001b[39m(\u001b[39mself\u001b[39m, \u001b[39m*\u001b[39m\u001b[39m*\u001b[39mkwargs: Any) \u001b[39m-\u001b[39m\u001b[39m>\u001b[39m \u001b[39mNone\u001b[39;00m:\n\u001b[1;32m---> 74\u001b[0m     \u001b[39msuper\u001b[39;49m()\u001b[39m.\u001b[39;49m\u001b[39m__init__\u001b[39;49m(\u001b[39m*\u001b[39;49m\u001b[39m*\u001b[39;49mkwargs)\n\u001b[0;32m     75\u001b[0m     \u001b[39mself\u001b[39m\u001b[39m.\u001b[39m_lc_kwargs \u001b[39m=\u001b[39m kwargs\n",
      "File \u001b[1;32mc:\\Users\\tjfis\\anaconda3\\envs\\news\\Lib\\site-packages\\pydantic\\main.py:341\u001b[0m, in \u001b[0;36mpydantic.main.BaseModel.__init__\u001b[1;34m()\u001b[0m\n",
      "\u001b[1;31mValidationError\u001b[0m: 1 validation error for PromptTemplate\n__root__\n  Invalid prompt schema; check for mismatched or missing input parameters. 'article' (type=value_error)"
     ]
    }
   ],
   "source": [
    "for article in os.listdir('articles'):\n",
    "        summary = summarize_text('articles/' + article)\n",
    "        with open('summaries/' + article, 'w') as f:\n",
    "            f.write(summary[0].page_content)\n",
    "            f.close()\n",
    "        print('Finished summarizing ' + article)"
   ]
  },
  {
   "cell_type": "code",
   "execution_count": null,
   "metadata": {},
   "outputs": [],
   "source": []
  }
 ],
 "metadata": {
  "kernelspec": {
   "display_name": "news",
   "language": "python",
   "name": "python3"
  },
  "language_info": {
   "codemirror_mode": {
    "name": "ipython",
    "version": 3
   },
   "file_extension": ".py",
   "mimetype": "text/x-python",
   "name": "python",
   "nbconvert_exporter": "python",
   "pygments_lexer": "ipython3",
   "version": "3.11.4"
  },
  "orig_nbformat": 4
 },
 "nbformat": 4,
 "nbformat_minor": 2
}
