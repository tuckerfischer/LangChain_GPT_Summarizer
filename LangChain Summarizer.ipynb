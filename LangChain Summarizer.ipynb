{
 "cells": [
  {
   "cell_type": "code",
   "execution_count": 5,
   "metadata": {},
   "outputs": [],
   "source": [
    "from langchain import OpenAI, PromptTemplate, LLMChain\n",
    "from langchain.text_splitter import CharacterTextSplitter\n",
    "from langchain.chains.mapreduce import MapReduceChain\n",
    "from langchain.prompts import PromptTemplate\n",
    "from langchain.chains.summarize import load_summarize_chain\n",
    "import pandas as pd\n",
    "from langchain import HuggingFaceHub\n",
    "from langchain.docstore.document import Document\n",
    "from config import *\n",
    "import os"
   ]
  },
  {
   "cell_type": "code",
   "execution_count": 6,
   "metadata": {},
   "outputs": [],
   "source": [
    "llm = OpenAI(temperature=0, openai_api_key=OPENAI_API_KEY)\n",
    "chain = load_summarize_chain(llm, chain_type=\"map_reduce\")"
   ]
  },
  {
   "cell_type": "code",
   "execution_count": 10,
   "metadata": {},
   "outputs": [],
   "source": [
    "prompt_template = \"\"\"Write in bullet points the main points of the article below:\n",
    "\n",
    "                        {text}\n",
    "                        \"\"\""
   ]
  },
  {
   "cell_type": "code",
   "execution_count": 11,
   "metadata": {},
   "outputs": [],
   "source": [
    "def summarize_text(file):\n",
    "    # Prepare the input data\n",
    "    text_splitter = CharacterTextSplitter()\n",
    "    with open(file) as f:\n",
    "        industry_news = f.read()\n",
    "    texts = text_splitter.split_text(industry_news)\n",
    "    docs = [Document(page_content=t) for t in texts]\n",
    "    # Run the summarization chain on the documents\n",
    "    PROMPT = PromptTemplate(template=prompt_template, input_variables=[\"text\"])\n",
    "    chain = load_summarize_chain(llm, chain_type=\"stuff\", prompt=PROMPT)\n",
    "    summary = chain.run(docs)\n",
    "\n",
    "    return summary"
   ]
  },
  {
   "cell_type": "code",
   "execution_count": 14,
   "metadata": {},
   "outputs": [
    {
     "name": "stdout",
     "output_type": "stream",
     "text": [
      "Finished summarizing Apple Is Reportedly Scaling Back Production Plans of Its $3,499 Vision Pro Mixed Reality Headset - IGN.txt\n",
      "Finished summarizing Google's updated privacy policy states it can use public data to train its AI models.txt\n",
      "Finished summarizing iPhone 15 Lineup Rumored to Feature Significantly Larger Batteries.txt\n"
     ]
    }
   ],
   "source": [
    "for article in os.listdir('articles'):\n",
    "        summary = summarize_text('articles/' + article)\n",
    "        with open('summaries/' + article, 'w') as f:\n",
    "            f.write(summary)\n",
    "            f.close()\n",
    "        print('Finished summarizing ' + article)"
   ]
  },
  {
   "cell_type": "code",
   "execution_count": null,
   "metadata": {},
   "outputs": [],
   "source": []
  }
 ],
 "metadata": {
  "kernelspec": {
   "display_name": "news",
   "language": "python",
   "name": "python3"
  },
  "language_info": {
   "codemirror_mode": {
    "name": "ipython",
    "version": 3
   },
   "file_extension": ".py",
   "mimetype": "text/x-python",
   "name": "python",
   "nbconvert_exporter": "python",
   "pygments_lexer": "ipython3",
   "version": "3.11.4"
  },
  "orig_nbformat": 4
 },
 "nbformat": 4,
 "nbformat_minor": 2
}
